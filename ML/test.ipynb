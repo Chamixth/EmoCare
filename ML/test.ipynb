{
 "cells": [
  {
   "cell_type": "code",
   "execution_count": 1,
   "metadata": {},
   "outputs": [],
   "source": [
    "import cv2\n",
    "from keras.models import Sequential\n",
    "from keras.layers import Conv2D, MaxPooling2D, Dense, Dropout, Flatten\n",
    "from keras.optimizers import Adam\n",
    "from keras.preprocessing.image import ImageDataGenerator"
   ]
  },
  {
   "cell_type": "code",
   "execution_count": 2,
   "metadata": {},
   "outputs": [],
   "source": [
    "train_data_gen = ImageDataGenerator(rescale=1./255)\n",
    "validation_data_gen = ImageDataGenerator(rescale=1./255)"
   ]
  },
  {
   "cell_type": "code",
   "execution_count": 3,
   "metadata": {},
   "outputs": [
    {
     "name": "stdout",
     "output_type": "stream",
     "text": [
      "Found 25311 images belonging to 7 classes.\n"
     ]
    }
   ],
   "source": [
    "#pre-process all the train images\n",
    "train_generator = train_data_gen.flow_from_directory('./DataSet/images/train',\n",
    "        target_size=(48, 48),\n",
    "        batch_size=64,\n",
    "        color_mode=\"grayscale\",\n",
    "        class_mode='categorical')"
   ]
  },
  {
   "cell_type": "code",
   "execution_count": 13,
   "metadata": {},
   "outputs": [
    {
     "name": "stdout",
     "output_type": "stream",
     "text": [
      "Found 6911 images belonging to 7 classes.\n"
     ]
    }
   ],
   "source": [
    "#pre-process all the test images\n",
    "validation_generator = validation_data_gen.flow_from_directory('./DataSet/images/validation',\n",
    "        target_size=(48, 48),\n",
    "        batch_size=64,\n",
    "        color_mode=\"grayscale\",\n",
    "        class_mode='categorical')"
   ]
  },
  {
   "cell_type": "code",
   "execution_count": 14,
   "metadata": {},
   "outputs": [],
   "source": [
    "# create model structure\n",
    "emotion_model = Sequential()\n",
    "\n",
    "emotion_model.add(Conv2D(32, kernel_size=(3, 3), activation='relu', input_shape=(48, 48, 1)))\n",
    "emotion_model.add(Conv2D(64, kernel_size=(3, 3), activation='relu'))\n",
    "emotion_model.add(MaxPooling2D(pool_size=(2, 2)))\n",
    "emotion_model.add(Dropout(0.25))\n",
    "\n",
    "emotion_model.add(Conv2D(128, kernel_size=(3, 3), activation='relu'))\n",
    "emotion_model.add(MaxPooling2D(pool_size=(2, 2)))\n",
    "emotion_model.add(Conv2D(128, kernel_size=(3, 3), activation='relu'))\n",
    "emotion_model.add(MaxPooling2D(pool_size=(2, 2)))\n",
    "emotion_model.add(Dropout(0.25))\n",
    "\n",
    "emotion_model.add(Flatten())\n",
    "emotion_model.add(Dense(1024, activation='relu'))\n",
    "emotion_model.add(Dropout(0.5))\n",
    "emotion_model.add(Dense(7, activation='softmax'))\n",
    "\n",
    "cv2.ocl.setUseOpenCL(False)\n",
    "\n",
    "emotion_model.compile(loss='categorical_crossentropy', optimizer=Adam(lr=0.0001, decay=1e-6), metrics=['accuracy'])\n"
   ]
  },
  {
   "cell_type": "code",
   "execution_count": 15,
   "metadata": {},
   "outputs": [
    {
     "name": "stderr",
     "output_type": "stream",
     "text": [
      "C:\\Users\\HP\\AppData\\Local\\Temp\\ipykernel_2428\\3783702684.py:2: UserWarning: `Model.fit_generator` is deprecated and will be removed in a future version. Please use `Model.fit`, which supports generators.\n",
      "  emotion_model_info = emotion_model.fit_generator(\n"
     ]
    },
    {
     "name": "stdout",
     "output_type": "stream",
     "text": [
      "Epoch 1/50\n",
      "395/395 [==============================] - 695s 2s/step - loss: 1.8012 - accuracy: 0.2734 - val_loss: 1.7512 - val_accuracy: 0.2823\n",
      "Epoch 2/50\n",
      "395/395 [==============================] - 252s 638ms/step - loss: 1.6257 - accuracy: 0.3704 - val_loss: 1.5712 - val_accuracy: 0.3968\n",
      "Epoch 3/50\n",
      "395/395 [==============================] - 64s 163ms/step - loss: 1.5193 - accuracy: 0.4200 - val_loss: 1.5000 - val_accuracy: 0.4387\n",
      "Epoch 4/50\n",
      "395/395 [==============================] - 64s 163ms/step - loss: 1.4504 - accuracy: 0.4483 - val_loss: 1.4463 - val_accuracy: 0.4445\n",
      "Epoch 5/50\n",
      "395/395 [==============================] - 64s 163ms/step - loss: 1.3949 - accuracy: 0.4733 - val_loss: 1.4014 - val_accuracy: 0.4658\n",
      "Epoch 6/50\n",
      "395/395 [==============================] - 64s 162ms/step - loss: 1.3466 - accuracy: 0.4944 - val_loss: 1.3587 - val_accuracy: 0.4784\n",
      "Epoch 7/50\n",
      "395/395 [==============================] - 64s 162ms/step - loss: 1.2953 - accuracy: 0.5139 - val_loss: 1.3172 - val_accuracy: 0.4920\n",
      "Epoch 8/50\n",
      "395/395 [==============================] - 65s 164ms/step - loss: 1.2607 - accuracy: 0.5244 - val_loss: 1.2911 - val_accuracy: 0.5074\n",
      "Epoch 9/50\n",
      "395/395 [==============================] - 65s 163ms/step - loss: 1.2258 - accuracy: 0.5400 - val_loss: 1.2750 - val_accuracy: 0.5077\n",
      "Epoch 10/50\n",
      "395/395 [==============================] - 64s 163ms/step - loss: 1.1942 - accuracy: 0.5529 - val_loss: 1.2460 - val_accuracy: 0.5245\n",
      "Epoch 11/50\n",
      "395/395 [==============================] - 65s 164ms/step - loss: 1.1648 - accuracy: 0.5630 - val_loss: 1.2403 - val_accuracy: 0.5301\n",
      "Epoch 12/50\n",
      "395/395 [==============================] - 65s 165ms/step - loss: 1.1340 - accuracy: 0.5758 - val_loss: 1.2130 - val_accuracy: 0.5371\n",
      "Epoch 13/50\n",
      "395/395 [==============================] - 65s 163ms/step - loss: 1.1098 - accuracy: 0.5841 - val_loss: 1.1854 - val_accuracy: 0.5507\n",
      "Epoch 14/50\n",
      "395/395 [==============================] - 65s 164ms/step - loss: 1.0819 - accuracy: 0.5960 - val_loss: 1.1832 - val_accuracy: 0.5532\n",
      "Epoch 15/50\n",
      "395/395 [==============================] - 65s 164ms/step - loss: 1.0559 - accuracy: 0.6080 - val_loss: 1.1654 - val_accuracy: 0.5561\n",
      "Epoch 16/50\n",
      "395/395 [==============================] - 65s 164ms/step - loss: 1.0393 - accuracy: 0.6163 - val_loss: 1.1589 - val_accuracy: 0.5591\n",
      "Epoch 17/50\n",
      "395/395 [==============================] - 64s 163ms/step - loss: 1.0106 - accuracy: 0.6249 - val_loss: 1.1560 - val_accuracy: 0.5664\n",
      "Epoch 18/50\n",
      "395/395 [==============================] - 64s 161ms/step - loss: 0.9872 - accuracy: 0.6344 - val_loss: 1.1433 - val_accuracy: 0.5727\n",
      "Epoch 19/50\n",
      "395/395 [==============================] - 64s 161ms/step - loss: 0.9674 - accuracy: 0.6449 - val_loss: 1.1562 - val_accuracy: 0.5692\n",
      "Epoch 20/50\n",
      "395/395 [==============================] - 68s 171ms/step - loss: 0.9444 - accuracy: 0.6540 - val_loss: 1.1338 - val_accuracy: 0.5708\n",
      "Epoch 21/50\n",
      "395/395 [==============================] - 65s 165ms/step - loss: 0.9191 - accuracy: 0.6640 - val_loss: 1.1383 - val_accuracy: 0.5816\n",
      "Epoch 22/50\n",
      "395/395 [==============================] - 65s 165ms/step - loss: 0.9012 - accuracy: 0.6675 - val_loss: 1.1245 - val_accuracy: 0.5847\n",
      "Epoch 23/50\n",
      "395/395 [==============================] - 64s 162ms/step - loss: 0.8722 - accuracy: 0.6779 - val_loss: 1.1296 - val_accuracy: 0.5832\n",
      "Epoch 24/50\n",
      "395/395 [==============================] - 64s 163ms/step - loss: 0.8518 - accuracy: 0.6876 - val_loss: 1.1332 - val_accuracy: 0.5859\n",
      "Epoch 25/50\n",
      "395/395 [==============================] - 64s 162ms/step - loss: 0.8349 - accuracy: 0.6931 - val_loss: 1.1276 - val_accuracy: 0.5892\n",
      "Epoch 26/50\n",
      "395/395 [==============================] - 64s 162ms/step - loss: 0.8045 - accuracy: 0.7051 - val_loss: 1.1384 - val_accuracy: 0.5876\n",
      "Epoch 27/50\n",
      "395/395 [==============================] - 64s 162ms/step - loss: 0.7873 - accuracy: 0.7114 - val_loss: 1.1203 - val_accuracy: 0.5977\n",
      "Epoch 28/50\n",
      "395/395 [==============================] - 64s 162ms/step - loss: 0.7695 - accuracy: 0.7187 - val_loss: 1.1332 - val_accuracy: 0.5956\n",
      "Epoch 29/50\n",
      "395/395 [==============================] - 64s 163ms/step - loss: 0.7480 - accuracy: 0.7295 - val_loss: 1.1328 - val_accuracy: 0.5993\n",
      "Epoch 30/50\n",
      "395/395 [==============================] - 64s 162ms/step - loss: 0.7241 - accuracy: 0.7377 - val_loss: 1.1268 - val_accuracy: 0.5986\n",
      "Epoch 31/50\n",
      "395/395 [==============================] - 64s 163ms/step - loss: 0.6949 - accuracy: 0.7480 - val_loss: 1.1310 - val_accuracy: 0.5970\n",
      "Epoch 32/50\n",
      "395/395 [==============================] - 64s 162ms/step - loss: 0.6829 - accuracy: 0.7536 - val_loss: 1.1350 - val_accuracy: 0.5989\n",
      "Epoch 33/50\n",
      "395/395 [==============================] - 64s 162ms/step - loss: 0.6580 - accuracy: 0.7604 - val_loss: 1.1422 - val_accuracy: 0.5945\n",
      "Epoch 34/50\n",
      "395/395 [==============================] - 64s 162ms/step - loss: 0.6364 - accuracy: 0.7703 - val_loss: 1.1446 - val_accuracy: 0.6009\n",
      "Epoch 35/50\n",
      "395/395 [==============================] - 64s 163ms/step - loss: 0.6194 - accuracy: 0.7757 - val_loss: 1.1545 - val_accuracy: 0.6040\n",
      "Epoch 36/50\n",
      "395/395 [==============================] - 64s 163ms/step - loss: 0.5995 - accuracy: 0.7829 - val_loss: 1.1662 - val_accuracy: 0.6031\n",
      "Epoch 37/50\n",
      "395/395 [==============================] - 64s 163ms/step - loss: 0.5813 - accuracy: 0.7909 - val_loss: 1.1634 - val_accuracy: 0.6035\n",
      "Epoch 38/50\n",
      "395/395 [==============================] - 65s 163ms/step - loss: 0.5654 - accuracy: 0.7964 - val_loss: 1.1701 - val_accuracy: 0.6054\n",
      "Epoch 39/50\n",
      "395/395 [==============================] - 64s 162ms/step - loss: 0.5504 - accuracy: 0.8015 - val_loss: 1.1813 - val_accuracy: 0.6081\n",
      "Epoch 40/50\n",
      "395/395 [==============================] - 64s 162ms/step - loss: 0.5261 - accuracy: 0.8120 - val_loss: 1.1979 - val_accuracy: 0.5994\n",
      "Epoch 41/50\n",
      "395/395 [==============================] - 64s 162ms/step - loss: 0.5089 - accuracy: 0.8153 - val_loss: 1.2338 - val_accuracy: 0.6029\n",
      "Epoch 42/50\n",
      "395/395 [==============================] - 64s 163ms/step - loss: 0.4924 - accuracy: 0.8225 - val_loss: 1.2176 - val_accuracy: 0.6054\n",
      "Epoch 43/50\n",
      "395/395 [==============================] - 64s 163ms/step - loss: 0.4776 - accuracy: 0.8275 - val_loss: 1.1987 - val_accuracy: 0.5994\n",
      "Epoch 44/50\n",
      "395/395 [==============================] - 64s 162ms/step - loss: 0.4683 - accuracy: 0.8298 - val_loss: 1.2168 - val_accuracy: 0.6043\n",
      "Epoch 45/50\n",
      "395/395 [==============================] - 64s 162ms/step - loss: 0.4456 - accuracy: 0.8388 - val_loss: 1.2414 - val_accuracy: 0.6032\n",
      "Epoch 46/50\n",
      "395/395 [==============================] - 64s 162ms/step - loss: 0.4320 - accuracy: 0.8437 - val_loss: 1.2423 - val_accuracy: 0.6038\n",
      "Epoch 47/50\n",
      "395/395 [==============================] - 64s 162ms/step - loss: 0.4149 - accuracy: 0.8523 - val_loss: 1.2715 - val_accuracy: 0.6040\n",
      "Epoch 48/50\n",
      "395/395 [==============================] - 64s 162ms/step - loss: 0.4052 - accuracy: 0.8543 - val_loss: 1.2616 - val_accuracy: 0.6003\n",
      "Epoch 49/50\n",
      "395/395 [==============================] - 64s 162ms/step - loss: 0.3933 - accuracy: 0.8616 - val_loss: 1.2801 - val_accuracy: 0.6117\n",
      "Epoch 50/50\n",
      "395/395 [==============================] - 64s 162ms/step - loss: 0.3848 - accuracy: 0.8616 - val_loss: 1.3010 - val_accuracy: 0.6057\n"
     ]
    }
   ],
   "source": [
    "# Train the neural network/model\n",
    "emotion_model_info = emotion_model.fit_generator(\n",
    "        train_generator,\n",
    "        steps_per_epoch=25311 // 64,\n",
    "        epochs=50,\n",
    "        validation_data=validation_generator,\n",
    "        validation_steps=6911 // 64)\n"
   ]
  },
  {
   "cell_type": "code",
   "execution_count": 16,
   "metadata": {},
   "outputs": [],
   "source": [
    "# save model structure in jason file\n",
    "model_json = emotion_model.to_json()\n",
    "with open(\"emotion_model.json\", \"w\") as json_file:\n",
    "    json_file.write(model_json)\n",
    "\n",
    "# save trained model weight in .h5 file\n",
    "emotion_model.save_weights('emotion_model.h5')\n",
    "\n"
   ]
  }
 ],
 "metadata": {
  "kernelspec": {
   "display_name": "Excelsiors_SDGP",
   "language": "python",
   "name": "python3"
  },
  "language_info": {
   "codemirror_mode": {
    "name": "ipython",
    "version": 3
   },
   "file_extension": ".py",
   "mimetype": "text/x-python",
   "name": "python",
   "nbconvert_exporter": "python",
   "pygments_lexer": "ipython3",
   "version": "3.9.16"
  },
  "orig_nbformat": 4,
  "vscode": {
   "interpreter": {
    "hash": "4e600355447ef17807a37317a93a76f2122740fd72152daad0f1483f650848d7"
   }
  }
 },
 "nbformat": 4,
 "nbformat_minor": 2
}
